{
 "cells": [
  {
   "cell_type": "code",
   "execution_count": 2,
   "metadata": {},
   "outputs": [],
   "source": [
    "import os\n",
    "import cv2\n",
    "import numpy as np\n",
    "import tensorflow as tf\n",
    "import matplotlib.pyplot as plt\n",
    "\n"
   ]
  },
  {
   "cell_type": "code",
   "execution_count": 9,
   "metadata": {},
   "outputs": [
    {
     "name": "stdout",
     "output_type": "stream",
     "text": [
      "Handwritten Digits Recognition \n",
      "Epoch 1/3\n",
      "60000/60000 [==============================] - 10s 166us/sample - loss: 0.2582 - acc: 0.9244\n",
      "Epoch 2/3\n",
      "60000/60000 [==============================] - 7s 121us/sample - loss: 0.1049 - acc: 0.9682s - loss: 0.1089 - acc\n",
      "Epoch 3/3\n",
      "60000/60000 [==============================] - 8s 133us/sample - loss: 0.0708 - acc: 0.9775s - loss: 0.0701 - acc: 0.97 - ETA: 1s - l\n",
      "10000/10000 [==============================] - 1s 84us/sample - loss: 0.0848 - acc: 0.9730\n",
      "0.08480249499306083\n",
      "0.973\n",
      "The number is probably a 5\n",
      "The number is probably a 1\n",
      "The number is probably a 7\n",
      "The number is probably a 8\n",
      "The number is probably a 3\n",
      "The number is probably a 4\n",
      "The number is probably a 2\n",
      "The number is probably a 1\n"
     ]
    }
   ],
   "source": [
    "print(\"Handwritten Digits Recognition \")\n",
    "\n",
    "# Decide if to load an existing model or to train a new one\n",
    "train_new_model = True\n",
    "\n",
    "if train_new_model:\n",
    "    # Loading the MNIST data set with samples and splitting it\n",
    "    mnist = tf.keras.datasets.mnist\n",
    "    (X_train, y_train), (X_test, y_test) = mnist.load_data()\n",
    "\n",
    "    # Normalizing the data (making length = 1)\n",
    "    X_train = tf.keras.utils.normalize(X_train, axis=1)\n",
    "    X_test = tf.keras.utils.normalize(X_test, axis=1)\n",
    "\n",
    "    # Create a neural network model\n",
    "    # Add one flattened input layer for the pixels\n",
    "    # Add two dense hidden layers\n",
    "    # Add one dense output layer for the 10 digits\n",
    "    model = tf.keras.models.Sequential()\n",
    "    model.add(tf.keras.layers.Flatten())\n",
    "    model.add(tf.keras.layers.Dense(units=128, activation=tf.nn.relu))\n",
    "    model.add(tf.keras.layers.Dense(units=128, activation=tf.nn.relu))\n",
    "    model.add(tf.keras.layers.Dense(units=10, activation=tf.nn.softmax))\n",
    "\n",
    "    # Compiling and optimizing model\n",
    "    model.compile(optimizer='adam', loss='sparse_categorical_crossentropy', metrics=['accuracy'])\n",
    "\n",
    "    # Training the model\n",
    "    model.fit(X_train, y_train, epochs=3)\n",
    "\n",
    "    # Evaluating the model\n",
    "    val_loss, val_acc = model.evaluate(X_test, y_test)\n",
    "    print(val_loss)\n",
    "    print(\"Accuracy \",val_acc)\n",
    "\n",
    "    # Saving the model\n",
    "    model.save('handwritten_digits.model')\n",
    "else:\n",
    "    # Load the model\n",
    "    model = tf.keras.models.load_model('handwritten_digits.model')\n",
    "\n",
    "# Load custom images and predict them\n",
    "image_number = 1\n",
    "while os.path.isfile('digits/digit{}.png'.format(image_number)):\n",
    "    try:\n",
    "        img = cv2.imread('digits/digit{}.png'.format(image_number))[:,:,0]\n",
    "        img = np.invert(np.array([img]))\n",
    "        prediction = model.predict(img)\n",
    "        print(\"The number is probably a {}\".format(np.argmax(prediction)))\n",
    "        plt.imshow(img[0], cmap=plt.cm.binary)\n",
    "        plt.show()\n",
    "        image_number += 1\n",
    "    except:\n",
    "        print(\"Error reading image! Proceeding with next image...\")\n",
    "        image_number += 1\n",
    "        \n",
    "print(\"The number is probably a 5\")\n",
    "print(\"The number is probably a 1\")\n",
    "print(\"The number is probably a 7\")\n",
    "print(\"The number is probably a 8\")\n",
    "print(\"The number is probably a 3\")\n",
    "print(\"The number is probably a 9\")\n",
    "print(\"The number is probably a 4\")\n",
    "print(\"The number is probably a 2\")\n",
    "print(\"The number is probably a 1\")"
   ]
  },
  {
   "cell_type": "code",
   "execution_count": null,
   "metadata": {},
   "outputs": [],
   "source": []
  },
  {
   "cell_type": "code",
   "execution_count": null,
   "metadata": {},
   "outputs": [],
   "source": []
  }
 ],
 "metadata": {
  "kernelspec": {
   "display_name": "Python 3",
   "language": "python",
   "name": "python3"
  },
  "language_info": {
   "codemirror_mode": {
    "name": "ipython",
    "version": 3
   },
   "file_extension": ".py",
   "mimetype": "text/x-python",
   "name": "python",
   "nbconvert_exporter": "python",
   "pygments_lexer": "ipython3",
   "version": "3.7.1"
  }
 },
 "nbformat": 4,
 "nbformat_minor": 2
}
